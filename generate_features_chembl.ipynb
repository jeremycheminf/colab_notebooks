{
  "cells": [
    {
      "cell_type": "markdown",
      "metadata": {
        "id": "view-in-github",
        "colab_type": "text"
      },
      "source": [
        "<a href=\"https://colab.research.google.com/github/jeremycheminf/colab_notebooks/blob/main/generate_features_chembl.ipynb\" target=\"_parent\"><img src=\"https://colab.research.google.com/assets/colab-badge.svg\" alt=\"Open In Colab\"/></a>"
      ]
    },
    {
      "cell_type": "markdown",
      "source": [
        "# Generate features from ChEMBL and then lookup"
      ],
      "metadata": {
        "id": "ObLBRAoBW5v6"
      }
    },
    {
      "cell_type": "markdown",
      "source": [
        "One way to filter generative Ai design is to remove odd structures that are generated. Ring systems is one of the option, https://practicalcheminformatics.blogspot.com/2024/05/generative-molecular-design-isnt-as.html but we can also look at fingerprint features which represent some substructure pattern.\n",
        "RDKit can generate unfolded fingerprint and we can store information as a very long list of integers and information on occurences. Similar to SAScore feature subscore.\n",
        "In this notebook, equiavalent of ECFP4 are used, but one could change to other representation.\n",
        "\n",
        "Additionaly the Counter object created can be updated with a list of compounds-features to reflect particular chemical space."
      ],
      "metadata": {
        "id": "f6FaooTwXATg"
      }
    },
    {
      "cell_type": "markdown",
      "source": [
        "Let's install libraries we need"
      ],
      "metadata": {
        "id": "FIaXljo8W1OS"
      }
    },
    {
      "cell_type": "code",
      "source": [
        "! pip install rdkit swifter datamol"
      ],
      "metadata": {
        "id": "35jWT5mrJCW5"
      },
      "execution_count": null,
      "outputs": []
    },
    {
      "cell_type": "markdown",
      "metadata": {
        "id": "ktpLPZflFe37"
      },
      "source": [
        "## Generate files for features from ChEMBL"
      ]
    },
    {
      "cell_type": "markdown",
      "metadata": {
        "id": "G1Q1DO50Fe3-"
      },
      "source": [
        "ChEMBL downloaded from FTP with just representation of compounds chembl_34_chemreps.txt.gz"
      ]
    },
    {
      "cell_type": "code",
      "execution_count": 12,
      "metadata": {
        "id": "t__OnRPUFe3-"
      },
      "outputs": [],
      "source": [
        "file_chembl = \"https://ftp.ebi.ac.uk/pub/databases/chembl/ChEMBLdb/latest/chembl_34_chemreps.txt.gz\"\n"
      ]
    },
    {
      "cell_type": "markdown",
      "metadata": {
        "id": "3eC3-F-ZFe3_"
      },
      "source": [
        "All our imports and stop RDKit logging"
      ]
    },
    {
      "cell_type": "code",
      "execution_count": 13,
      "metadata": {
        "id": "yMEqCIUeFe4A"
      },
      "outputs": [],
      "source": [
        "import pandas as pd\n",
        "from rdkit import Chem\n",
        "from rdkit.Chem import AllChem, rdMolDescriptors\n",
        "from rdkit.Chem.rdchem import Mol\n",
        "from rdkit.Chem.MolStandardize import rdMolStandardize\n",
        "from rdkit import RDLogger\n",
        "from tqdm.auto import tqdm\n",
        "from itertools import chain\n",
        "from collections import Counter\n",
        "import swifter\n",
        "import datamol as dm # for RDKit logging\n",
        "\n",
        "RDLogger.DisableLog(\"rdApp.info\")"
      ]
    },
    {
      "cell_type": "markdown",
      "source": [
        "Now we read ChEMBL file in pandas and change column name (optional)"
      ],
      "metadata": {
        "id": "415rq2YQYGez"
      }
    },
    {
      "cell_type": "code",
      "execution_count": 15,
      "metadata": {
        "id": "wBuQyS0mFe4B"
      },
      "outputs": [],
      "source": [
        "df = pd.read_csv(\n",
        "    file_chembl, compression=\"gzip\", sep=\"\\t\", usecols=[\"canonical_smiles\"]\n",
        ")\n",
        "df = df.drop_duplicates()\n",
        "df = df.rename(columns={\"canonical_smiles\": \"SMILES\"})"
      ]
    },
    {
      "cell_type": "code",
      "source": [
        "df.head()"
      ],
      "metadata": {
        "colab": {
          "base_uri": "https://localhost:8080/",
          "height": 206
        },
        "id": "M7ApTq3BLiKH",
        "outputId": "f6c3e78c-707c-41ee-89b8-bf58d220ec6e"
      },
      "execution_count": 16,
      "outputs": [
        {
          "output_type": "execute_result",
          "data": {
            "text/plain": [
              "                                              SMILES\n",
              "0                       Cc1cc(-c2csc(N=C(N)N)n2)cn1C\n",
              "1  CC[C@H](C)[C@H](NC(=O)[C@H](CC(C)C)NC(=O)[C@@H...\n",
              "2  CCCC[C@@H]1NC(=O)[C@@H](NC(=O)[C@H](CC(C)C)NC(...\n",
              "3  CC(C)C[C@@H]1NC(=O)CNC(=O)[C@H](c2ccc(O)cc2)NC...\n",
              "4             Brc1cccc(Nc2ncnc3ccncc23)c1NCCN1CCOCC1"
            ],
            "text/html": [
              "\n",
              "  <div id=\"df-770e652c-88e1-41ee-9a6f-b3ddcf19726d\" class=\"colab-df-container\">\n",
              "    <div>\n",
              "<style scoped>\n",
              "    .dataframe tbody tr th:only-of-type {\n",
              "        vertical-align: middle;\n",
              "    }\n",
              "\n",
              "    .dataframe tbody tr th {\n",
              "        vertical-align: top;\n",
              "    }\n",
              "\n",
              "    .dataframe thead th {\n",
              "        text-align: right;\n",
              "    }\n",
              "</style>\n",
              "<table border=\"1\" class=\"dataframe\">\n",
              "  <thead>\n",
              "    <tr style=\"text-align: right;\">\n",
              "      <th></th>\n",
              "      <th>SMILES</th>\n",
              "    </tr>\n",
              "  </thead>\n",
              "  <tbody>\n",
              "    <tr>\n",
              "      <th>0</th>\n",
              "      <td>Cc1cc(-c2csc(N=C(N)N)n2)cn1C</td>\n",
              "    </tr>\n",
              "    <tr>\n",
              "      <th>1</th>\n",
              "      <td>CC[C@H](C)[C@H](NC(=O)[C@H](CC(C)C)NC(=O)[C@@H...</td>\n",
              "    </tr>\n",
              "    <tr>\n",
              "      <th>2</th>\n",
              "      <td>CCCC[C@@H]1NC(=O)[C@@H](NC(=O)[C@H](CC(C)C)NC(...</td>\n",
              "    </tr>\n",
              "    <tr>\n",
              "      <th>3</th>\n",
              "      <td>CC(C)C[C@@H]1NC(=O)CNC(=O)[C@H](c2ccc(O)cc2)NC...</td>\n",
              "    </tr>\n",
              "    <tr>\n",
              "      <th>4</th>\n",
              "      <td>Brc1cccc(Nc2ncnc3ccncc23)c1NCCN1CCOCC1</td>\n",
              "    </tr>\n",
              "  </tbody>\n",
              "</table>\n",
              "</div>\n",
              "    <div class=\"colab-df-buttons\">\n",
              "\n",
              "  <div class=\"colab-df-container\">\n",
              "    <button class=\"colab-df-convert\" onclick=\"convertToInteractive('df-770e652c-88e1-41ee-9a6f-b3ddcf19726d')\"\n",
              "            title=\"Convert this dataframe to an interactive table.\"\n",
              "            style=\"display:none;\">\n",
              "\n",
              "  <svg xmlns=\"http://www.w3.org/2000/svg\" height=\"24px\" viewBox=\"0 -960 960 960\">\n",
              "    <path d=\"M120-120v-720h720v720H120Zm60-500h600v-160H180v160Zm220 220h160v-160H400v160Zm0 220h160v-160H400v160ZM180-400h160v-160H180v160Zm440 0h160v-160H620v160ZM180-180h160v-160H180v160Zm440 0h160v-160H620v160Z\"/>\n",
              "  </svg>\n",
              "    </button>\n",
              "\n",
              "  <style>\n",
              "    .colab-df-container {\n",
              "      display:flex;\n",
              "      gap: 12px;\n",
              "    }\n",
              "\n",
              "    .colab-df-convert {\n",
              "      background-color: #E8F0FE;\n",
              "      border: none;\n",
              "      border-radius: 50%;\n",
              "      cursor: pointer;\n",
              "      display: none;\n",
              "      fill: #1967D2;\n",
              "      height: 32px;\n",
              "      padding: 0 0 0 0;\n",
              "      width: 32px;\n",
              "    }\n",
              "\n",
              "    .colab-df-convert:hover {\n",
              "      background-color: #E2EBFA;\n",
              "      box-shadow: 0px 1px 2px rgba(60, 64, 67, 0.3), 0px 1px 3px 1px rgba(60, 64, 67, 0.15);\n",
              "      fill: #174EA6;\n",
              "    }\n",
              "\n",
              "    .colab-df-buttons div {\n",
              "      margin-bottom: 4px;\n",
              "    }\n",
              "\n",
              "    [theme=dark] .colab-df-convert {\n",
              "      background-color: #3B4455;\n",
              "      fill: #D2E3FC;\n",
              "    }\n",
              "\n",
              "    [theme=dark] .colab-df-convert:hover {\n",
              "      background-color: #434B5C;\n",
              "      box-shadow: 0px 1px 3px 1px rgba(0, 0, 0, 0.15);\n",
              "      filter: drop-shadow(0px 1px 2px rgba(0, 0, 0, 0.3));\n",
              "      fill: #FFFFFF;\n",
              "    }\n",
              "  </style>\n",
              "\n",
              "    <script>\n",
              "      const buttonEl =\n",
              "        document.querySelector('#df-770e652c-88e1-41ee-9a6f-b3ddcf19726d button.colab-df-convert');\n",
              "      buttonEl.style.display =\n",
              "        google.colab.kernel.accessAllowed ? 'block' : 'none';\n",
              "\n",
              "      async function convertToInteractive(key) {\n",
              "        const element = document.querySelector('#df-770e652c-88e1-41ee-9a6f-b3ddcf19726d');\n",
              "        const dataTable =\n",
              "          await google.colab.kernel.invokeFunction('convertToInteractive',\n",
              "                                                    [key], {});\n",
              "        if (!dataTable) return;\n",
              "\n",
              "        const docLinkHtml = 'Like what you see? Visit the ' +\n",
              "          '<a target=\"_blank\" href=https://colab.research.google.com/notebooks/data_table.ipynb>data table notebook</a>'\n",
              "          + ' to learn more about interactive tables.';\n",
              "        element.innerHTML = '';\n",
              "        dataTable['output_type'] = 'display_data';\n",
              "        await google.colab.output.renderOutput(dataTable, element);\n",
              "        const docLink = document.createElement('div');\n",
              "        docLink.innerHTML = docLinkHtml;\n",
              "        element.appendChild(docLink);\n",
              "      }\n",
              "    </script>\n",
              "  </div>\n",
              "\n",
              "\n",
              "<div id=\"df-16aad6e5-e72e-4239-921d-e5e22a7fb7e7\">\n",
              "  <button class=\"colab-df-quickchart\" onclick=\"quickchart('df-16aad6e5-e72e-4239-921d-e5e22a7fb7e7')\"\n",
              "            title=\"Suggest charts\"\n",
              "            style=\"display:none;\">\n",
              "\n",
              "<svg xmlns=\"http://www.w3.org/2000/svg\" height=\"24px\"viewBox=\"0 0 24 24\"\n",
              "     width=\"24px\">\n",
              "    <g>\n",
              "        <path d=\"M19 3H5c-1.1 0-2 .9-2 2v14c0 1.1.9 2 2 2h14c1.1 0 2-.9 2-2V5c0-1.1-.9-2-2-2zM9 17H7v-7h2v7zm4 0h-2V7h2v10zm4 0h-2v-4h2v4z\"/>\n",
              "    </g>\n",
              "</svg>\n",
              "  </button>\n",
              "\n",
              "<style>\n",
              "  .colab-df-quickchart {\n",
              "      --bg-color: #E8F0FE;\n",
              "      --fill-color: #1967D2;\n",
              "      --hover-bg-color: #E2EBFA;\n",
              "      --hover-fill-color: #174EA6;\n",
              "      --disabled-fill-color: #AAA;\n",
              "      --disabled-bg-color: #DDD;\n",
              "  }\n",
              "\n",
              "  [theme=dark] .colab-df-quickchart {\n",
              "      --bg-color: #3B4455;\n",
              "      --fill-color: #D2E3FC;\n",
              "      --hover-bg-color: #434B5C;\n",
              "      --hover-fill-color: #FFFFFF;\n",
              "      --disabled-bg-color: #3B4455;\n",
              "      --disabled-fill-color: #666;\n",
              "  }\n",
              "\n",
              "  .colab-df-quickchart {\n",
              "    background-color: var(--bg-color);\n",
              "    border: none;\n",
              "    border-radius: 50%;\n",
              "    cursor: pointer;\n",
              "    display: none;\n",
              "    fill: var(--fill-color);\n",
              "    height: 32px;\n",
              "    padding: 0;\n",
              "    width: 32px;\n",
              "  }\n",
              "\n",
              "  .colab-df-quickchart:hover {\n",
              "    background-color: var(--hover-bg-color);\n",
              "    box-shadow: 0 1px 2px rgba(60, 64, 67, 0.3), 0 1px 3px 1px rgba(60, 64, 67, 0.15);\n",
              "    fill: var(--button-hover-fill-color);\n",
              "  }\n",
              "\n",
              "  .colab-df-quickchart-complete:disabled,\n",
              "  .colab-df-quickchart-complete:disabled:hover {\n",
              "    background-color: var(--disabled-bg-color);\n",
              "    fill: var(--disabled-fill-color);\n",
              "    box-shadow: none;\n",
              "  }\n",
              "\n",
              "  .colab-df-spinner {\n",
              "    border: 2px solid var(--fill-color);\n",
              "    border-color: transparent;\n",
              "    border-bottom-color: var(--fill-color);\n",
              "    animation:\n",
              "      spin 1s steps(1) infinite;\n",
              "  }\n",
              "\n",
              "  @keyframes spin {\n",
              "    0% {\n",
              "      border-color: transparent;\n",
              "      border-bottom-color: var(--fill-color);\n",
              "      border-left-color: var(--fill-color);\n",
              "    }\n",
              "    20% {\n",
              "      border-color: transparent;\n",
              "      border-left-color: var(--fill-color);\n",
              "      border-top-color: var(--fill-color);\n",
              "    }\n",
              "    30% {\n",
              "      border-color: transparent;\n",
              "      border-left-color: var(--fill-color);\n",
              "      border-top-color: var(--fill-color);\n",
              "      border-right-color: var(--fill-color);\n",
              "    }\n",
              "    40% {\n",
              "      border-color: transparent;\n",
              "      border-right-color: var(--fill-color);\n",
              "      border-top-color: var(--fill-color);\n",
              "    }\n",
              "    60% {\n",
              "      border-color: transparent;\n",
              "      border-right-color: var(--fill-color);\n",
              "    }\n",
              "    80% {\n",
              "      border-color: transparent;\n",
              "      border-right-color: var(--fill-color);\n",
              "      border-bottom-color: var(--fill-color);\n",
              "    }\n",
              "    90% {\n",
              "      border-color: transparent;\n",
              "      border-bottom-color: var(--fill-color);\n",
              "    }\n",
              "  }\n",
              "</style>\n",
              "\n",
              "  <script>\n",
              "    async function quickchart(key) {\n",
              "      const quickchartButtonEl =\n",
              "        document.querySelector('#' + key + ' button');\n",
              "      quickchartButtonEl.disabled = true;  // To prevent multiple clicks.\n",
              "      quickchartButtonEl.classList.add('colab-df-spinner');\n",
              "      try {\n",
              "        const charts = await google.colab.kernel.invokeFunction(\n",
              "            'suggestCharts', [key], {});\n",
              "      } catch (error) {\n",
              "        console.error('Error during call to suggestCharts:', error);\n",
              "      }\n",
              "      quickchartButtonEl.classList.remove('colab-df-spinner');\n",
              "      quickchartButtonEl.classList.add('colab-df-quickchart-complete');\n",
              "    }\n",
              "    (() => {\n",
              "      let quickchartButtonEl =\n",
              "        document.querySelector('#df-16aad6e5-e72e-4239-921d-e5e22a7fb7e7 button');\n",
              "      quickchartButtonEl.style.display =\n",
              "        google.colab.kernel.accessAllowed ? 'block' : 'none';\n",
              "    })();\n",
              "  </script>\n",
              "</div>\n",
              "    </div>\n",
              "  </div>\n"
            ],
            "application/vnd.google.colaboratory.intrinsic+json": {
              "type": "dataframe",
              "variable_name": "df"
            }
          },
          "metadata": {},
          "execution_count": 16
        }
      ]
    },
    {
      "cell_type": "markdown",
      "metadata": {
        "id": "iilb430lFe4B"
      },
      "source": [
        "### Features"
      ]
    },
    {
      "cell_type": "markdown",
      "metadata": {
        "id": "zxBCFuI6Fe4B"
      },
      "source": [
        "We need to get unique fingerprint feature as unfolded integer. Then count how many compounds have the feature. This is counting only 1 per compound even if feature is present multiple times on a same molecule."
      ]
    },
    {
      "cell_type": "markdown",
      "source": [
        "We will define a set of functions to generate and lookup"
      ],
      "metadata": {
        "id": "0Z7kYqTUMFBj"
      }
    },
    {
      "cell_type": "code",
      "execution_count": 20,
      "metadata": {
        "id": "83fqv3JwFe4C"
      },
      "outputs": [],
      "source": [
        "frm = rdMolStandardize.LargestFragmentChooser()\n",
        "\n",
        "def unfolded_set_fps(smi: str) -> set:\n",
        "    '''\n",
        "    This takes a smiles and return a set of integer representing ECFP4 on bits\n",
        "    To help with calculation, compounds with more than 50 atoms are discarded\n",
        "    smi: SMILES of the compound\n",
        "    '''\n",
        "    try:\n",
        "        with dm.without_rdkit_log():\n",
        "            mol = Chem.MolFromSmiles(smi)\n",
        "            if mol is None or mol.GetNumHeavyAtoms() > 50:\n",
        "                return set()\n",
        "            mol = frm.choose(mol)\n",
        "            return set(\n",
        "                rdMolDescriptors.GetMorganFingerprint(mol, 2, useCounts=False)\n",
        "                .GetNonzeroElements()\n",
        "                .keys()\n",
        "            )\n",
        "    except Exception as e:\n",
        "        return set()\n",
        "\n",
        "def lookup_fps(smi: str, counter: Counter) -> dict:\n",
        "    '''\n",
        "    This takes a smiles and a counter object containing fps occurences to return for the smiles the list of features and frequencies as a dictionary\n",
        "    smi: SMILES of the compound\n",
        "    counter: Counter object contianing all the lookup table\n",
        "    '''\n",
        "    dict_out = {}\n",
        "    try:\n",
        "        mol = Chem.MolFromSmiles(smi)\n",
        "        if mol is None:\n",
        "            return dict_out\n",
        "        res = set(\n",
        "            rdMolDescriptors.GetMorganFingerprint(mol, 2).GetNonzeroElements().keys()\n",
        "        )\n",
        "        for item in res:\n",
        "            dict_out[item] = counter[item]\n",
        "        return dict_out\n",
        "    except Exception as e:\n",
        "        return {}\n",
        "\n",
        "\n",
        "def fps_low_frequency(fps_dict: dict, threshold: int = 10) -> int:\n",
        "    '''\n",
        "    From a dictionary of values, return how many values are below threshold\n",
        "    Passing the output of lookup_fps will return how many features in a compound are below threshold\n",
        "    fps_dict: dictionary in format {fpds_x: occurence}\n",
        "    threshold: Max value to count as low occuring feature\n",
        "    '''\n",
        "    return sum(1 for v in fps_dict.values() if v < threshold)\n",
        "\n",
        "\n",
        "def mol_fps_low_frequency(smi: str, counter: Counter, threshold: int = 10) -> int:\n",
        "    '''\n",
        "    Helper function to combine look up and low frequency to get from a smiles to how many features the molecule has below threshold\n",
        "    counter: Counter object contianing all the lookup table\n",
        "    threshold: Max value to count as low occuring feature\n",
        "    '''\n",
        "    return fps_low_frequency(lookup_fps(smi, counter), threshold)"
      ]
    },
    {
      "cell_type": "markdown",
      "metadata": {
        "id": "OtT-yzetFe4C"
      },
      "source": [
        "We will use swifter library to speed calculations and get all fps, then Counter to count all the fingerprint integer values"
      ]
    },
    {
      "cell_type": "markdown",
      "source": [
        "Note: this can take some time to run depending of CPU available"
      ],
      "metadata": {
        "id": "EdX_PtKqP8VD"
      }
    },
    {
      "cell_type": "code",
      "execution_count": 18,
      "metadata": {
        "colab": {
          "base_uri": "https://localhost:8080/",
          "height": 49,
          "referenced_widgets": [
            "31130abcd9cd46f39d29b72ff62235ca",
            "c48052ae3f5144729702dca172be77c2",
            "2e1917e8e4054e41be317669dfbb2895",
            "095504da39a240d0a545d26c21004f27",
            "47174c9658d1445d88baaf4a9d53a163",
            "6d71b8e5fe884e949aeee026b025a8bf",
            "9c2ed4a5014a443a87f4c06b7be8a940",
            "4bc5d3b8c6d242faae34e6502b6d9b0b",
            "4dc5b927cb5b471b99b6579cc656ec3f",
            "99de7509a84a402ea77af48f16146221",
            "3c88d0dea5eb4679ac07bec1cab99ef5"
          ]
        },
        "id": "xRNyn7LMFe4C",
        "outputId": "bdd7f552-3fe9-4732-f897-2c6e222d4472"
      },
      "outputs": [
        {
          "data": {
            "application/vnd.jupyter.widget-view+json": {
              "model_id": "31130abcd9cd46f39d29b72ff62235ca",
              "version_major": 2,
              "version_minor": 0
            },
            "text/plain": [
              "Pandas Apply:   0%|          | 0/2409117 [00:00<?, ?it/s]"
            ]
          },
          "metadata": {},
          "output_type": "display_data"
        }
      ],
      "source": [
        "df[\"set_of_integers\"] = df[\"SMILES\"].swifter.apply(unfolded_set_fps)"
      ]
    },
    {
      "cell_type": "markdown",
      "source": [
        "The chain/from_iterable_tolist functions will collapse all the df into a big list that Counter will count and create a dictionary with key the fps \"number\" and count as tally counter."
      ],
      "metadata": {
        "id": "LxAE-oWuR2cU"
      }
    },
    {
      "cell_type": "code",
      "execution_count": 19,
      "metadata": {
        "id": "qWpNCpNcFe4C"
      },
      "outputs": [],
      "source": [
        "c = Counter(chain.from_iterable(df[\"set_of_integers\"].tolist()))"
      ]
    },
    {
      "cell_type": "markdown",
      "source": [
        "Now we save the data in parquet for later"
      ],
      "metadata": {
        "id": "kiMGpzo-L1TK"
      }
    },
    {
      "cell_type": "code",
      "execution_count": 21,
      "metadata": {
        "id": "fgspvLHQFe4C"
      },
      "outputs": [],
      "source": [
        "df_count = pd.DataFrame.from_dict(c, orient=\"index\").reset_index()\n",
        "df_count.columns = [\"fp_code\", \"count\"]\n",
        "df_count.to_parquet(\"fp_counts.parquet\", engine=\"pyarrow\", compression=\"snappy\")"
      ]
    },
    {
      "cell_type": "markdown",
      "source": [
        "How to use the file to see on compounds"
      ],
      "metadata": {
        "id": "x_S8u9stJR5b"
      }
    },
    {
      "cell_type": "code",
      "execution_count": 22,
      "metadata": {
        "id": "bnzHC4_8Fe4D"
      },
      "outputs": [],
      "source": [
        "# Read the parquet file into a DataFrame\n",
        "df_fps = pd.read_parquet(\"fp_counts.parquet\")\n",
        "\n",
        "# Create a new counter\n",
        "counter = dict(zip(df_fps[\"fp_code\"], df_fps[\"count\"]))\n",
        "counter = Counter(counter)"
      ]
    },
    {
      "cell_type": "code",
      "execution_count": 24,
      "metadata": {
        "colab": {
          "base_uri": "https://localhost:8080/"
        },
        "id": "SoJMocahFe4D",
        "outputId": "d5c9f1c7-b33e-4ca8-eb38-883d8379f301"
      },
      "outputs": [
        {
          "output_type": "stream",
          "name": "stdout",
          "text": [
            " there are 395849 compounds with feature 2353112200\n"
          ]
        }
      ],
      "source": [
        "print(f\" there are {counter[2353112200]} compounds with feature 2353112200\")"
      ]
    },
    {
      "cell_type": "markdown",
      "source": [
        "And look up to show all features with occurences, and counting how many features are seen less than n times"
      ],
      "metadata": {
        "id": "8AJVEGwIVas2"
      }
    },
    {
      "cell_type": "code",
      "execution_count": 25,
      "metadata": {
        "colab": {
          "base_uri": "https://localhost:8080/"
        },
        "id": "taJvMUVCFe4D",
        "outputId": "a826c762-1572-4aa7-d548-4c5c688d48b1"
      },
      "outputs": [
        {
          "output_type": "stream",
          "name": "stdout",
          "text": [
            "{1891839201: 21938, 2246728737: 1680388, 3745584548: 46619, 2636383078: 6005, 3542456614: 388168, 2215059400: 24274, 864674487: 942769, 4008337421: 133099, 4026668333: 4604, 1685248591: 81593, 2245384272: 1552528, 4232889011: 5183, 1510461303: 249947, 2728141400: 423, 1173125914: 134149}\n",
            "1\n"
          ]
        }
      ],
      "source": [
        "n = 1000\n",
        "print(lookup_fps(\"CCCOCCCCC\", counter))\n",
        "print(mol_fps_low_frequency(\"CCCOCCCCC\", counter, n))"
      ]
    },
    {
      "cell_type": "markdown",
      "metadata": {
        "id": "VkhZ01cpFe4E"
      },
      "source": [
        "#### Show how to look at SMARTS of feature"
      ]
    },
    {
      "cell_type": "markdown",
      "source": [
        "But need a compound, the information is not stored in the file. We will get a random compound, generate bit info and show the SMARTS and picture of it"
      ],
      "metadata": {
        "id": "ayqWcc7JVv3L"
      }
    },
    {
      "cell_type": "code",
      "execution_count": 26,
      "metadata": {
        "colab": {
          "base_uri": "https://localhost:8080/"
        },
        "id": "gdkjWHzMFe4E",
        "outputId": "9d2edd3e-ad8b-4f76-afef-c37192385795"
      },
      "outputs": [
        {
          "output_type": "execute_result",
          "data": {
            "text/plain": [
              "{864674487: ((3, 0),),\n",
              " 1173125914: ((1, 1),),\n",
              " 2222621677: ((3, 1),),\n",
              " 2245384272: ((1, 0), (2, 0)),\n",
              " 2246728737: ((0, 0), (4, 0)),\n",
              " 2636383078: ((1, 2),),\n",
              " 2786563569: ((2, 2),),\n",
              " 3183067622: ((3, 2),),\n",
              " 3542456614: ((0, 1),),\n",
              " 3975275337: ((4, 1),),\n",
              " 4008337421: ((2, 1),)}"
            ]
          },
          "metadata": {},
          "execution_count": 26
        }
      ],
      "source": [
        "mol = Chem.MolFromSmiles(\"CCCOC\")\n",
        "bit_info = {}\n",
        "fp = rdMolDescriptors.GetMorganFingerprint(mol, 2, bitInfo=bit_info)  # get bit info this time\n",
        "bit_info"
      ]
    },
    {
      "cell_type": "code",
      "execution_count": 27,
      "metadata": {
        "colab": {
          "base_uri": "https://localhost:8080/",
          "height": 35
        },
        "id": "8ECOCPOXFe4E",
        "outputId": "28ed01b4-6611-4378-af7a-01a7695be289"
      },
      "outputs": [
        {
          "output_type": "execute_result",
          "data": {
            "text/plain": [
              "'[#6]-[#6]-[#6]-[#8]-[#6]'"
            ],
            "application/vnd.google.colaboratory.intrinsic+json": {
              "type": "string"
            }
          },
          "metadata": {},
          "execution_count": 27
        }
      ],
      "source": [
        "atomidx, radius = bit_info[2786563569][\n",
        "    0\n",
        "]  # 2786563569 is an example\n",
        "env = Chem.FindAtomEnvironmentOfRadiusN(mol, radius, atomidx)  # returns rdkit vector\n",
        "submol = Chem.PathToSubmol(mol, env)\n",
        "Chem.MolToSmarts(submol)"
      ]
    },
    {
      "cell_type": "code",
      "execution_count": 28,
      "metadata": {
        "colab": {
          "base_uri": "https://localhost:8080/",
          "height": 167
        },
        "id": "yT-NtBKDFe4E",
        "outputId": "a20d1086-7c29-4338-b210-477a77fa49ef"
      },
      "outputs": [
        {
          "output_type": "execute_result",
          "data": {
            "text/plain": [
              "<PIL.PngImagePlugin.PngImageFile image mode=RGB size=150x150>"
            ],
            "image/png": "[encoded data removed]"
          },
          "metadata": {},
          "execution_count": 28
        }
      ],
      "source": [
        "Chem.Draw.DrawMorganBit(mol, 2786563569, bit_info)"
      ]
    },
    {
      "cell_type": "markdown",
      "source": [
        "## More features?"
      ],
      "metadata": {
        "id": "y_hIcmrOWs9q"
      }
    },
    {
      "cell_type": "markdown",
      "source": [
        "As shown by Greg Landrum with a 6M ZINC file, \"The thing that I find most interesting (and somewhat surprising) about these results is how far we are from having encountered “all” of the bits; new bits are being encountered for almost all of the fingerprint types even after 5.9 million molecules have been encountered.\"  https://greglandrum.github.io/rdkit-blog/posts/2022-01-04-number-of-unique-fp-bits.html"
      ],
      "metadata": {
        "id": "MVv-32t7WOQX"
      }
    },
    {
      "cell_type": "markdown",
      "source": [
        "If looking to go to surechembl, this is a lot slower!"
      ],
      "metadata": {
        "id": "vQVXtfVKJlIh"
      }
    },
    {
      "cell_type": "markdown",
      "metadata": {
        "id": "n5UYt6emFe4D"
      },
      "source": [
        "### Use Surechembl data for features"
      ]
    },
    {
      "cell_type": "code",
      "execution_count": 9,
      "metadata": {
        "id": "V4IGIIr0Fe4D"
      },
      "outputs": [],
      "source": [
        "# Download HTML content\n",
        "import requests\n",
        "from requests.adapters import HTTPAdapter\n",
        "from urllib3.util.retry import Retry\n",
        "\n",
        "import os\n",
        "\n",
        "from bs4 import BeautifulSoup\n",
        "\n",
        "url = \"https://ftp.ebi.ac.uk/pub/databases/chembl/SureChEMBL/data/\"\n",
        "response = requests.get(url)\n",
        "html_content = response.text"
      ]
    },
    {
      "cell_type": "code",
      "execution_count": null,
      "metadata": {
        "id": "zWYGp5MsFe4D"
      },
      "outputs": [],
      "source": [
        "# Parse HTML and extract file links\n",
        "soup = BeautifulSoup(html_content, \"html.parser\")\n",
        "\n",
        "file_links = [\n",
        "    url + anchor[\"href\"]\n",
        "    for anchor in soup.find_all(\"a\")\n",
        "    if anchor[\"href\"].endswith(\".txt.gz\")\n",
        "]\n",
        "\n",
        "counter_all = Counter()\n",
        "\n",
        "# Download and process each file\n",
        "\n",
        "for file_url in file_links:\n",
        "    file_name = file_url.split(\"/\")[-1]\n",
        "    print(f\"Downloading and processing {file_name}...\")\n",
        "    if os.path.exists(file_name):\n",
        "        print(\"no need to download\")\n",
        "    else:\n",
        "        response = requests.get(file_url)\n",
        "        # Write the gzipped content to a file\n",
        "        with open(file_name, \"wb\") as f:\n",
        "            f.write(response.content)\n",
        "    pandas_df = pd.read_csv(\n",
        "        file_name,\n",
        "        sep=\"\\t\",\n",
        "        usecols=[\"SMILES\"],\n",
        "    )\n",
        "    chunk_size = 1000000\n",
        "    if len(pandas_df) > chunk_size:\n",
        "        for i in range(0, len(pandas_df), chunk_size):\n",
        "            chunk = pandas_df.iloc[i : i + chunk_size]\n",
        "            # Use swifter to parallelize the apply function on the chunk\n",
        "            chunk[\"set_of_integers\"] = chunk[\"SMILES\"].swifter.apply(unfolded_set_fps)\n",
        "            c = Counter(chain.from_iterable(chunk[\"set_of_integers\"].tolist()))\n",
        "            counter_all.update(c)\n",
        "    else:\n",
        "        pandas_df[\"set_of_integers\"] = pandas_df[\"SMILES\"].swifter.apply(\n",
        "            unfolded_set_fps\n",
        "        )\n",
        "        c = Counter(chain.from_iterable(pandas_df[\"set_of_integers\"].tolist()))\n",
        "        counter_all.update(c)"
      ]
    },
    {
      "cell_type": "code",
      "execution_count": null,
      "metadata": {
        "id": "peN_pkOIFe4D"
      },
      "outputs": [],
      "source": [
        "df_count = pd.DataFrame.from_dict(counter_all, orient=\"index\").reset_index()\n",
        "df_count.columns = [\"fp_code\", \"count\"]\n",
        "df_count.to_parquet(\n",
        "    \"fp_counts_surechembl.parquet\", engine=\"pyarrow\", compression=\"snappy\"\n",
        ")"
      ]
    },
    {
      "cell_type": "markdown",
      "metadata": {
        "id": "YeUypTSDFe4D"
      },
      "source": [
        "#### Test the file"
      ]
    },
    {
      "cell_type": "code",
      "execution_count": null,
      "metadata": {
        "id": "e8bzASHeFe4D"
      },
      "outputs": [],
      "source": [
        "# Read the parquet file into a DataFrame\n",
        "df_fps = pd.read_parquet(\"fp_counts_surechembl.parquet\")\n",
        "\n",
        "# Create a new counter\n",
        "counter = dict(zip(df_fps[\"fp_code\"], df_fps[\"count\"]))\n",
        "counter = Counter(counter)"
      ]
    },
    {
      "cell_type": "code",
      "execution_count": null,
      "metadata": {
        "id": "TixmhePLFe4E"
      },
      "outputs": [],
      "source": [
        "print(lookup_fps(\"CCCOCCCCC\", counter))\n",
        "print(mol_fps_low_frequency(\"CCCOCCCCC\", counter, 50000))"
      ]
    }
  ],
  "metadata": {
    "kernelspec": {
      "display_name": "Python 3 (ipykernel)",
      "language": "python",
      "name": "python3"
    },
    "language_info": {
      "codemirror_mode": {
        "name": "ipython",
        "version": 3
      },
      "file_extension": ".py",
      "mimetype": "text/x-python",
      "name": "python",
      "nbconvert_exporter": "python",
      "pygments_lexer": "ipython3",
      "version": "3.11.5"
    },
    "colab": {
      "provenance": [],
      "include_colab_link": true
    },
    "widgets": {
      "application/vnd.jupyter.widget-state+json": {
        "31130abcd9cd46f39d29b72ff62235ca": {
          "model_module": "@jupyter-widgets/controls",
          "model_name": "HBoxModel",
          "model_module_version": "1.5.0",
          "state": {
            "_dom_classes": [],
            "_model_module": "@jupyter-widgets/controls",
            "_model_module_version": "1.5.0",
            "_model_name": "HBoxModel",
            "_view_count": null,
            "_view_module": "@jupyter-widgets/controls",
            "_view_module_version": "1.5.0",
            "_view_name": "HBoxView",
            "box_style": "",
            "children": [
              "IPY_MODEL_c48052ae3f5144729702dca172be77c2",
              "IPY_MODEL_2e1917e8e4054e41be317669dfbb2895",
              "IPY_MODEL_095504da39a240d0a545d26c21004f27"
            ],
            "layout": "IPY_MODEL_47174c9658d1445d88baaf4a9d53a163"
          }
        },
        "c48052ae3f5144729702dca172be77c2": {
          "model_module": "@jupyter-widgets/controls",
          "model_name": "HTMLModel",
          "model_module_version": "1.5.0",
          "state": {
            "_dom_classes": [],
            "_model_module": "@jupyter-widgets/controls",
            "_model_module_version": "1.5.0",
            "_model_name": "HTMLModel",
            "_view_count": null,
            "_view_module": "@jupyter-widgets/controls",
            "_view_module_version": "1.5.0",
            "_view_name": "HTMLView",
            "description": "",
            "description_tooltip": null,
            "layout": "IPY_MODEL_6d71b8e5fe884e949aeee026b025a8bf",
            "placeholder": "​",
            "style": "IPY_MODEL_9c2ed4a5014a443a87f4c06b7be8a940",
            "value": "Pandas Apply: 100%"
          }
        },
        "2e1917e8e4054e41be317669dfbb2895": {
          "model_module": "@jupyter-widgets/controls",
          "model_name": "FloatProgressModel",
          "model_module_version": "1.5.0",
          "state": {
            "_dom_classes": [],
            "_model_module": "@jupyter-widgets/controls",
            "_model_module_version": "1.5.0",
            "_model_name": "FloatProgressModel",
            "_view_count": null,
            "_view_module": "@jupyter-widgets/controls",
            "_view_module_version": "1.5.0",
            "_view_name": "ProgressView",
            "bar_style": "success",
            "description": "",
            "description_tooltip": null,
            "layout": "IPY_MODEL_4bc5d3b8c6d242faae34e6502b6d9b0b",
            "max": 2409117,
            "min": 0,
            "orientation": "horizontal",
            "style": "IPY_MODEL_4dc5b927cb5b471b99b6579cc656ec3f",
            "value": 2409117
          }
        },
        "095504da39a240d0a545d26c21004f27": {
          "model_module": "@jupyter-widgets/controls",
          "model_name": "HTMLModel",
          "model_module_version": "1.5.0",
          "state": {
            "_dom_classes": [],
            "_model_module": "@jupyter-widgets/controls",
            "_model_module_version": "1.5.0",
            "_model_name": "HTMLModel",
            "_view_count": null,
            "_view_module": "@jupyter-widgets/controls",
            "_view_module_version": "1.5.0",
            "_view_name": "HTMLView",
            "description": "",
            "description_tooltip": null,
            "layout": "IPY_MODEL_99de7509a84a402ea77af48f16146221",
            "placeholder": "​",
            "style": "IPY_MODEL_3c88d0dea5eb4679ac07bec1cab99ef5",
            "value": " 2409117/2409117 [40:12&lt;00:00, 997.71it/s]"
          }
        },
        "47174c9658d1445d88baaf4a9d53a163": {
          "model_module": "@jupyter-widgets/base",
          "model_name": "LayoutModel",
          "model_module_version": "1.2.0",
          "state": {
            "_model_module": "@jupyter-widgets/base",
            "_model_module_version": "1.2.0",
            "_model_name": "LayoutModel",
            "_view_count": null,
            "_view_module": "@jupyter-widgets/base",
            "_view_module_version": "1.2.0",
            "_view_name": "LayoutView",
            "align_content": null,
            "align_items": null,
            "align_self": null,
            "border": null,
            "bottom": null,
            "display": null,
            "flex": null,
            "flex_flow": null,
            "grid_area": null,
            "grid_auto_columns": null,
            "grid_auto_flow": null,
            "grid_auto_rows": null,
            "grid_column": null,
            "grid_gap": null,
            "grid_row": null,
            "grid_template_areas": null,
            "grid_template_columns": null,
            "grid_template_rows": null,
            "height": null,
            "justify_content": null,
            "justify_items": null,
            "left": null,
            "margin": null,
            "max_height": null,
            "max_width": null,
            "min_height": null,
            "min_width": null,
            "object_fit": null,
            "object_position": null,
            "order": null,
            "overflow": null,
            "overflow_x": null,
            "overflow_y": null,
            "padding": null,
            "right": null,
            "top": null,
            "visibility": null,
            "width": null
          }
        },
        "6d71b8e5fe884e949aeee026b025a8bf": {
          "model_module": "@jupyter-widgets/base",
          "model_name": "LayoutModel",
          "model_module_version": "1.2.0",
          "state": {
            "_model_module": "@jupyter-widgets/base",
            "_model_module_version": "1.2.0",
            "_model_name": "LayoutModel",
            "_view_count": null,
            "_view_module": "@jupyter-widgets/base",
            "_view_module_version": "1.2.0",
            "_view_name": "LayoutView",
            "align_content": null,
            "align_items": null,
            "align_self": null,
            "border": null,
            "bottom": null,
            "display": null,
            "flex": null,
            "flex_flow": null,
            "grid_area": null,
            "grid_auto_columns": null,
            "grid_auto_flow": null,
            "grid_auto_rows": null,
            "grid_column": null,
            "grid_gap": null,
            "grid_row": null,
            "grid_template_areas": null,
            "grid_template_columns": null,
            "grid_template_rows": null,
            "height": null,
            "justify_content": null,
            "justify_items": null,
            "left": null,
            "margin": null,
            "max_height": null,
            "max_width": null,
            "min_height": null,
            "min_width": null,
            "object_fit": null,
            "object_position": null,
            "order": null,
            "overflow": null,
            "overflow_x": null,
            "overflow_y": null,
            "padding": null,
            "right": null,
            "top": null,
            "visibility": null,
            "width": null
          }
        },
        "9c2ed4a5014a443a87f4c06b7be8a940": {
          "model_module": "@jupyter-widgets/controls",
          "model_name": "DescriptionStyleModel",
          "model_module_version": "1.5.0",
          "state": {
            "_model_module": "@jupyter-widgets/controls",
            "_model_module_version": "1.5.0",
            "_model_name": "DescriptionStyleModel",
            "_view_count": null,
            "_view_module": "@jupyter-widgets/base",
            "_view_module_version": "1.2.0",
            "_view_name": "StyleView",
            "description_width": ""
          }
        },
        "4bc5d3b8c6d242faae34e6502b6d9b0b": {
          "model_module": "@jupyter-widgets/base",
          "model_name": "LayoutModel",
          "model_module_version": "1.2.0",
          "state": {
            "_model_module": "@jupyter-widgets/base",
            "_model_module_version": "1.2.0",
            "_model_name": "LayoutModel",
            "_view_count": null,
            "_view_module": "@jupyter-widgets/base",
            "_view_module_version": "1.2.0",
            "_view_name": "LayoutView",
            "align_content": null,
            "align_items": null,
            "align_self": null,
            "border": null,
            "bottom": null,
            "display": null,
            "flex": null,
            "flex_flow": null,
            "grid_area": null,
            "grid_auto_columns": null,
            "grid_auto_flow": null,
            "grid_auto_rows": null,
            "grid_column": null,
            "grid_gap": null,
            "grid_row": null,
            "grid_template_areas": null,
            "grid_template_columns": null,
            "grid_template_rows": null,
            "height": null,
            "justify_content": null,
            "justify_items": null,
            "left": null,
            "margin": null,
            "max_height": null,
            "max_width": null,
            "min_height": null,
            "min_width": null,
            "object_fit": null,
            "object_position": null,
            "order": null,
            "overflow": null,
            "overflow_x": null,
            "overflow_y": null,
            "padding": null,
            "right": null,
            "top": null,
            "visibility": null,
            "width": null
          }
        },
        "4dc5b927cb5b471b99b6579cc656ec3f": {
          "model_module": "@jupyter-widgets/controls",
          "model_name": "ProgressStyleModel",
          "model_module_version": "1.5.0",
          "state": {
            "_model_module": "@jupyter-widgets/controls",
            "_model_module_version": "1.5.0",
            "_model_name": "ProgressStyleModel",
            "_view_count": null,
            "_view_module": "@jupyter-widgets/base",
            "_view_module_version": "1.2.0",
            "_view_name": "StyleView",
            "bar_color": null,
            "description_width": ""
          }
        },
        "99de7509a84a402ea77af48f16146221": {
          "model_module": "@jupyter-widgets/base",
          "model_name": "LayoutModel",
          "model_module_version": "1.2.0",
          "state": {
            "_model_module": "@jupyter-widgets/base",
            "_model_module_version": "1.2.0",
            "_model_name": "LayoutModel",
            "_view_count": null,
            "_view_module": "@jupyter-widgets/base",
            "_view_module_version": "1.2.0",
            "_view_name": "LayoutView",
            "align_content": null,
            "align_items": null,
            "align_self": null,
            "border": null,
            "bottom": null,
            "display": null,
            "flex": null,
            "flex_flow": null,
            "grid_area": null,
            "grid_auto_columns": null,
            "grid_auto_flow": null,
            "grid_auto_rows": null,
            "grid_column": null,
            "grid_gap": null,
            "grid_row": null,
            "grid_template_areas": null,
            "grid_template_columns": null,
            "grid_template_rows": null,
            "height": null,
            "justify_content": null,
            "justify_items": null,
            "left": null,
            "margin": null,
            "max_height": null,
            "max_width": null,
            "min_height": null,
            "min_width": null,
            "object_fit": null,
            "object_position": null,
            "order": null,
            "overflow": null,
            "overflow_x": null,
            "overflow_y": null,
            "padding": null,
            "right": null,
            "top": null,
            "visibility": null,
            "width": null
          }
        },
        "3c88d0dea5eb4679ac07bec1cab99ef5": {
          "model_module": "@jupyter-widgets/controls",
          "model_name": "DescriptionStyleModel",
          "model_module_version": "1.5.0",
          "state": {
            "_model_module": "@jupyter-widgets/controls",
            "_model_module_version": "1.5.0",
            "_model_name": "DescriptionStyleModel",
            "_view_count": null,
            "_view_module": "@jupyter-widgets/base",
            "_view_module_version": "1.2.0",
            "_view_name": "StyleView",
            "description_width": ""
          }
        }
      }
    }
  },
  "nbformat": 4,
  "nbformat_minor": 0
}